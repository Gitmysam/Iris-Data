{
 "cells": [
  {
   "cell_type": "code",
   "execution_count": 59,
   "metadata": {},
   "outputs": [
    {
     "name": "stdout",
     "output_type": "stream",
     "text": [
      "(151, 5)\n",
      "   sepal-length  sepal-width  petal-length  petal-width    class\n",
      "0  sepal_length  sepal_width  petal_length  petal_width  species\n",
      "1           5.1          3.5           1.4          0.2   setosa\n",
      "2           4.9            3           1.4          0.2   setosa\n",
      "3           4.7          3.2           1.3          0.2   setosa\n",
      "4           4.6          3.1           1.5          0.2   setosa\n",
      "       sepal-length sepal-width petal-length petal-width   class\n",
      "count           151         151          151         151     151\n",
      "unique           36          24           44          23       4\n",
      "top               5           3          1.5         0.2  setosa\n",
      "freq             10          26           14          28      50\n"
     ]
    },
    {
     "data": {
      "text/plain": [
       "Text(0, 0.5, 'frequency')"
      ]
     },
     "execution_count": 59,
     "metadata": {},
     "output_type": "execute_result"
    },
    {
     "data": {
      "image/png": "[encoded data removed]",
      "text/plain": [
       "<Figure size 432x288 with 1 Axes>"
      ]
     },
     "metadata": {
      "needs_background": "light"
     },
     "output_type": "display_data"
    }
   ],
   "source": [
    "import numpy as np\n",
    "import pandas as pd\n",
    "from pandas import read_csv\n",
    "from pandas.plotting import scatter_matrix\n",
    "import matplotlib.pyplot as plt\n",
    "\n",
    "url=\"https://raw.githubusercontent.com/uiuc-cse/data-fa14/gh-pages/data/iris.csv\"\n",
    "names=['sepal-length','sepal-width','petal-length','petal-width','class']\n",
    "dataset=read_csv(url,names=names)\n",
    "print(dataset.shape)\n",
    "print(dataset.head(5))\n",
    "print(dataset.describe())\n",
    "plt.hist(dataset['sepal-width'],bins=10,range=[0,20],color='red',alpha=.9)\n",
    "plt.title('sample histogram')\n",
    "plt.xlabel('sepal length')\n",
    "plt.ylabel('frequency')\n",
    "\n"
   ]
  },
  {
   "cell_type": "markdown",
   "metadata": {},
   "source": []
  },
  {
   "cell_type": "code",
   "execution_count": 2,
   "metadata": {},
   "outputs": [
    {
     "data": {
      "image/png": "[encoded data removed]",
      "text/plain": [
       "<Figure size 432x288 with 1 Axes>"
      ]
     },
     "metadata": {
      "needs_background": "light"
     },
     "output_type": "display_data"
    }
   ],
   "source": [
    "import matplotlib.pyplot as plt\n",
    "commute_times=[3,56,78,90,65,78,32]\n",
    "plt.hist(commute_times,5)\n",
    "plt.show()"
   ]
  },
  {
   "cell_type": "code",
   "execution_count": null,
   "metadata": {},
   "outputs": [],
   "source": []
  },
  {
   "cell_type": "code",
   "execution_count": null,
   "metadata": {},
   "outputs": [],
   "source": []
  },
  {
   "cell_type": "code",
   "execution_count": null,
   "metadata": {},
   "outputs": [],
   "source": []
  }
 ],
 "metadata": {
  "kernelspec": {
   "display_name": "Python 3",
   "language": "python",
   "name": "python3"
  },
  "language_info": {
   "codemirror_mode": {
    "name": "ipython",
    "version": 3
   },
   "file_extension": ".py",
   "mimetype": "text/x-python",
   "name": "python",
   "nbconvert_exporter": "python",
   "pygments_lexer": "ipython3",
   "version": "3.8.3"
  }
 },
 "nbformat": 4,
 "nbformat_minor": 4
}
